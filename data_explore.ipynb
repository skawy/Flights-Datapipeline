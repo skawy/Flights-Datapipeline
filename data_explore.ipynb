{
 "cells": [
  {
   "cell_type": "code",
   "execution_count": 82,
   "id": "c7af6476",
   "metadata": {},
   "outputs": [],
   "source": [
    "from google.cloud import bigquery\n",
    "import pandas  as pd\n",
    "from urllib.error import HTTPError"
   ]
  },
  {
   "cell_type": "code",
   "execution_count": 1,
   "id": "28d7d452",
   "metadata": {},
   "outputs": [],
   "source": [
    "airports = pd.read_csv('dataset/csvs/AirPorts.csv')\n",
    "flights =  pd.read_csv('dataset/csvs/Flights (2).csv')"
   ]
  },
  {
   "cell_type": "code",
   "execution_count": 2,
   "id": "b4ccf764",
   "metadata": {},
   "outputs": [
    {
     "name": "stdout",
     "output_type": "stream",
     "text": [
      "<class 'pandas.core.frame.DataFrame'>\n",
      "RangeIndex: 397 entries, 0 to 396\n",
      "Data columns (total 6 columns):\n",
      " #   Column   Non-Null Count  Dtype \n",
      "---  ------   --------------  ----- \n",
      " 0   airport  397 non-null    object\n",
      " 1   iata     397 non-null    object\n",
      " 2   icao     326 non-null    object\n",
      " 3   city     395 non-null    object\n",
      " 4   state    395 non-null    object\n",
      " 5   country  397 non-null    object\n",
      "dtypes: object(6)\n",
      "memory usage: 18.7+ KB\n"
     ]
    }
   ],
   "source": [
    "airports.info()"
   ]
  },
  {
   "cell_type": "code",
   "execution_count": 3,
   "id": "d76780c3",
   "metadata": {
    "scrolled": true
   },
   "outputs": [
    {
     "name": "stdout",
     "output_type": "stream",
     "text": [
      "<class 'pandas.core.frame.DataFrame'>\n",
      "RangeIndex: 10000000 entries, 0 to 9999999\n",
      "Data columns (total 5 columns):\n",
      " #   Column  Dtype \n",
      "---  ------  ----- \n",
      " 0   Flight  object\n",
      " 1   Orgin   object\n",
      " 2   Dept    object\n",
      " 3   Stops   object\n",
      " 4   Price   int64 \n",
      "dtypes: int64(1), object(4)\n",
      "memory usage: 381.5+ MB\n"
     ]
    }
   ],
   "source": [
    "flights.info()"
   ]
  },
  {
   "cell_type": "code",
   "execution_count": 4,
   "id": "7f93ae37",
   "metadata": {},
   "outputs": [
    {
     "name": "stdout",
     "output_type": "stream",
     "text": [
      "pre: missing count: 0\n"
     ]
    }
   ],
   "source": [
    "print(f\"pre: missing count: {flights['Price'].isna().sum()}\")\n"
   ]
  },
  {
   "cell_type": "code",
   "execution_count": 5,
   "id": "8781d4f5",
   "metadata": {},
   "outputs": [
    {
     "data": {
      "text/html": [
       "<div>\n",
       "<style scoped>\n",
       "    .dataframe tbody tr th:only-of-type {\n",
       "        vertical-align: middle;\n",
       "    }\n",
       "\n",
       "    .dataframe tbody tr th {\n",
       "        vertical-align: top;\n",
       "    }\n",
       "\n",
       "    .dataframe thead th {\n",
       "        text-align: right;\n",
       "    }\n",
       "</style>\n",
       "<table border=\"1\" class=\"dataframe\">\n",
       "  <thead>\n",
       "    <tr style=\"text-align: right;\">\n",
       "      <th></th>\n",
       "      <th>Flight</th>\n",
       "      <th>Orgin</th>\n",
       "      <th>Dept</th>\n",
       "      <th>Stops</th>\n",
       "      <th>Price</th>\n",
       "    </tr>\n",
       "  </thead>\n",
       "  <tbody>\n",
       "    <tr>\n",
       "      <th>0</th>\n",
       "      <td>Tianjin Airlines</td>\n",
       "      <td>SVG</td>\n",
       "      <td>STN</td>\n",
       "      <td>2</td>\n",
       "      <td>305</td>\n",
       "    </tr>\n",
       "    <tr>\n",
       "      <th>1</th>\n",
       "      <td>LATAM Airlines</td>\n",
       "      <td>GDL</td>\n",
       "      <td>DUB</td>\n",
       "      <td>3</td>\n",
       "      <td>341</td>\n",
       "    </tr>\n",
       "    <tr>\n",
       "      <th>2</th>\n",
       "      <td>Qatar Airways</td>\n",
       "      <td>YVR</td>\n",
       "      <td>NGO</td>\n",
       "      <td>non-stop</td>\n",
       "      <td>454</td>\n",
       "    </tr>\n",
       "    <tr>\n",
       "      <th>3</th>\n",
       "      <td>Tianjin Airlines</td>\n",
       "      <td>BWI</td>\n",
       "      <td>PTY</td>\n",
       "      <td>non-stop</td>\n",
       "      <td>878</td>\n",
       "    </tr>\n",
       "    <tr>\n",
       "      <th>4</th>\n",
       "      <td>Shandong Airlines</td>\n",
       "      <td>MDQ</td>\n",
       "      <td>MTR</td>\n",
       "      <td>non-stop</td>\n",
       "      <td>878</td>\n",
       "    </tr>\n",
       "  </tbody>\n",
       "</table>\n",
       "</div>"
      ],
      "text/plain": [
       "              Flight Orgin Dept     Stops  Price\n",
       "0   Tianjin Airlines   SVG  STN         2    305\n",
       "1     LATAM Airlines   GDL  DUB         3    341\n",
       "2      Qatar Airways   YVR  NGO  non-stop    454\n",
       "3   Tianjin Airlines   BWI  PTY  non-stop    878\n",
       "4  Shandong Airlines   MDQ  MTR  non-stop    878"
      ]
     },
     "execution_count": 5,
     "metadata": {},
     "output_type": "execute_result"
    }
   ],
   "source": [
    "flights.head(5)"
   ]
  },
  {
   "cell_type": "code",
   "execution_count": 6,
   "id": "79f57e2a",
   "metadata": {
    "scrolled": true
   },
   "outputs": [
    {
     "data": {
      "text/plain": [
       "Orgin\n",
       "BCN    25627\n",
       "SAW    25602\n",
       "FOR    25585\n",
       "OMA    25571\n",
       "CLE    25567\n",
       "       ...  \n",
       "JED    24840\n",
       "VCP    24839\n",
       "YYC    24823\n",
       "NGB    24782\n",
       "TXL    24759\n",
       "Name: count, Length: 397, dtype: int64"
      ]
     },
     "execution_count": 6,
     "metadata": {},
     "output_type": "execute_result"
    }
   ],
   "source": [
    "flights['Orgin'].value_counts()"
   ]
  },
  {
   "cell_type": "code",
   "execution_count": 95,
   "id": "adc80b11",
   "metadata": {},
   "outputs": [],
   "source": [
    "def check_bq_table(project_id, dataset_id, table_id):\n",
    "    dataset_ref = bigquery.DatasetReference(project_id, dataset_id)\n",
    "    table_ref = bigquery.TableReference(dataset_ref, table_id)\n",
    "    try:\n",
    "        client.get_table(table_ref)\n",
    "        return True\n",
    "    except :\n",
    "        return False"
   ]
  },
  {
   "cell_type": "code",
   "execution_count": 96,
   "id": "03b8e7f4",
   "metadata": {},
   "outputs": [],
   "source": [
    "def create_bq_table(project_id , dataset_id , table_id) -> bool :\n",
    "\n",
    "    if check_bq_table(project_id, dataset_id , table_id) :\n",
    "        return False\n",
    "        \n",
    "    client = bigquery.Client()  # Construct a BigQuery client object.\n",
    "    \n",
    "    types_mapping = {'object': 'STRING', 'string': 'STRING' ,'int64':'INTEGER' }\n",
    "    \n",
    "    schema = []\n",
    "    \n",
    "    for column in flights.columns: # Creating Schema Dynamically from the dataframe columns\n",
    "        column_type = str(flights[column].dtype)\n",
    "        bq_type = types_mapping[column_type]\n",
    "        schema.append(bigquery.SchemaField(column, bq_type, mode=\"REQUIRED\"))\n",
    "        \n",
    "    table = bigquery.Table(f\"{project_id}.{dataset_id}.{table_id}\", schema=schema)\n",
    "    table = client.create_table(table)  # Make an API request.\n",
    "    print(\n",
    "        \"Created table {}.{}.{}\".format(table.project, table.dataset_id, table.table_id)\n",
    "    )\n",
    "    return True"
   ]
  },
  {
   "cell_type": "code",
   "execution_count": 97,
   "id": "6a0ff217",
   "metadata": {},
   "outputs": [
    {
     "name": "stdout",
     "output_type": "stream",
     "text": [
      "Created table resolute-choir-403411.flights.test\n"
     ]
    },
    {
     "data": {
      "text/plain": [
       "True"
      ]
     },
     "execution_count": 97,
     "metadata": {},
     "output_type": "execute_result"
    }
   ],
   "source": [
    "create_bq_table('resolute-choir-403411', 'flights','test')"
   ]
  },
  {
   "cell_type": "code",
   "execution_count": 103,
   "id": "4de20df1",
   "metadata": {},
   "outputs": [
    {
     "data": {
      "text/plain": [
       "'resolute-choir-403411'"
      ]
     },
     "execution_count": 103,
     "metadata": {},
     "output_type": "execute_result"
    }
   ],
   "source": [
    "client.project"
   ]
  },
  {
   "cell_type": "code",
   "execution_count": 14,
   "id": "c97c094e",
   "metadata": {
    "scrolled": false
   },
   "outputs": [
    {
     "name": "stdout",
     "output_type": "stream",
     "text": [
      "<class 'pandas.core.frame.DataFrame'>\n",
      "RangeIndex: 10000000 entries, 0 to 9999999\n",
      "Data columns (total 5 columns):\n",
      " #   Column  Dtype \n",
      "---  ------  ----- \n",
      " 0   Flight  object\n",
      " 1   Orgin   object\n",
      " 2   Dept    object\n",
      " 3   Stops   object\n",
      " 4   Price   int64 \n",
      "dtypes: int64(1), object(4)\n",
      "memory usage: 381.5+ MB\n"
     ]
    }
   ],
   "source": [
    "flights.info()"
   ]
  },
  {
   "cell_type": "code",
   "execution_count": 12,
   "id": "52097f41",
   "metadata": {},
   "outputs": [],
   "source": [
    "airports['iata'] = airports['iata'].astype('string')"
   ]
  },
  {
   "cell_type": "code",
   "execution_count": 13,
   "id": "52a4d1fb",
   "metadata": {
    "scrolled": true
   },
   "outputs": [
    {
     "name": "stdout",
     "output_type": "stream",
     "text": [
      "<class 'pandas.core.frame.DataFrame'>\n",
      "RangeIndex: 397 entries, 0 to 396\n",
      "Data columns (total 6 columns):\n",
      " #   Column   Non-Null Count  Dtype \n",
      "---  ------   --------------  ----- \n",
      " 0   airport  397 non-null    string\n",
      " 1   iata     397 non-null    string\n",
      " 2   icao     326 non-null    object\n",
      " 3   city     395 non-null    object\n",
      " 4   state    395 non-null    object\n",
      " 5   country  397 non-null    object\n",
      "dtypes: object(4), string(2)\n",
      "memory usage: 18.7+ KB\n"
     ]
    }
   ],
   "source": [
    "airports.info()"
   ]
  },
  {
   "cell_type": "code",
   "execution_count": 104,
   "id": "502541dd",
   "metadata": {},
   "outputs": [],
   "source": [
    "import re\n"
   ]
  },
  {
   "cell_type": "code",
   "execution_count": 107,
   "id": "feb52e2e",
   "metadata": {},
   "outputs": [],
   "source": [
    "table_id = \"flights (2)\""
   ]
  },
  {
   "cell_type": "code",
   "execution_count": 108,
   "id": "92b53226",
   "metadata": {},
   "outputs": [],
   "source": [
    "table_id = re.sub('[^A-Za-z0-9]+', '', table_id) "
   ]
  },
  {
   "cell_type": "code",
   "execution_count": 109,
   "id": "8bd4fa09",
   "metadata": {},
   "outputs": [
    {
     "data": {
      "text/plain": [
       "'flights2'"
      ]
     },
     "execution_count": 109,
     "metadata": {},
     "output_type": "execute_result"
    }
   ],
   "source": [
    "table_id"
   ]
  }
 ],
 "metadata": {
  "kernelspec": {
   "display_name": "Python 3 (ipykernel)",
   "language": "python",
   "name": "python3"
  },
  "language_info": {
   "codemirror_mode": {
    "name": "ipython",
    "version": 3
   },
   "file_extension": ".py",
   "mimetype": "text/x-python",
   "name": "python",
   "nbconvert_exporter": "python",
   "pygments_lexer": "ipython3",
   "version": "3.11.5"
  }
 },
 "nbformat": 4,
 "nbformat_minor": 5
}
